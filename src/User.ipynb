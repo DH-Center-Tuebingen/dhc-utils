{
 "cells": [
  {
   "cell_type": "markdown",
   "metadata": {},
   "source": [
    "# User\n",
    "\n",
    "Functions that are used with the user object, which also include permissions and roles."
   ]
  },
  {
   "cell_type": "markdown",
   "metadata": {},
   "source": [
    "## Permissions\n",
    "\n",
    "Every user has a permissions array, which is a list of strings in the form of [permission_name]_[permission_action]. The permission_action can be one of 'read', 'write', 'create', 'delete', 'share'."
   ]
  },
  {
   "cell_type": "code",
   "execution_count": 20,
   "metadata": {},
   "outputs": [
    {
     "name": "stdout",
     "output_type": "stream",
     "text": [
      "Luke CANNOT read_article.\n",
      "Luke CANNOT write_article.\n",
      "Luke CANNOT delete_article.\n",
      "Luke CANNOT eat_pizza.\n"
     ]
    }
   ],
   "source": [
    "import { User } from \"./types/User.ts\"\n",
    "import { can } from \"./User.ts\"\n",
    "\n",
    "const Luke: User = {\n",
    "    nickname: \"Luke\",\n",
    "    permissions: { \"read_article\": true, \"write_article\": true, \"delete_article\": false }\n",
    "}\n",
    "\n",
    "const permissionsToCheck = [\"read_article\", \"write_article\", \"delete_article\", \"eat_pizza\"]\n",
    "\n",
    "for (const permission of permissionsToCheck) {\n",
    "    console.log(`${Luke.nickname} ${can(Luke, permission) ? 'can' : 'CANNOT'} ${permission}.`)\n",
    "}\n"
   ]
  }
 ],
 "metadata": {
  "kernelspec": {
   "display_name": "Deno",
   "language": "typescript",
   "name": "deno"
  },
  "language_info": {
   "codemirror_mode": "typescript",
   "file_extension": ".ts",
   "mimetype": "text/x.typescript",
   "name": "typescript",
   "nbconvert_exporter": "script",
   "pygments_lexer": "typescript",
   "version": "5.6.2"
  }
 },
 "nbformat": 4,
 "nbformat_minor": 2
}
